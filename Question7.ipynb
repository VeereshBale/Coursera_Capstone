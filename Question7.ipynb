{
  "nbformat": 4,
  "nbformat_minor": 0,
  "metadata": {
    "colab": {
      "name": "Question7.ipynb",
      "provenance": [],
      "include_colab_link": true
    },
    "kernelspec": {
      "display_name": "Python 3 (ipykernel)",
      "language": "python",
      "name": "python3"
    },
    "language_info": {
      "codemirror_mode": {
        "name": "ipython",
        "version": 3
      },
      "file_extension": ".py",
      "mimetype": "text/x-python",
      "name": "python",
      "nbconvert_exporter": "python",
      "pygments_lexer": "ipython3",
      "version": "3.9.6"
    }
  },
  "cells": [
    {
      "cell_type": "markdown",
      "metadata": {
        "id": "view-in-github",
        "colab_type": "text"
      },
      "source": [
        "<a href=\"https://colab.research.google.com/github/VeereshBale/Coursera_Capstone/blob/master/Question7.ipynb\" target=\"_parent\"><img src=\"https://colab.research.google.com/assets/colab-badge.svg\" alt=\"Open In Colab\"/></a>"
      ]
    },
    {
      "cell_type": "markdown",
      "metadata": {
        "id": "oavKjmaCsNxo"
      },
      "source": [
        "Roll no : 18AE30001 <br>\n",
        "Name : Bale Veeresh Siva Sai\n",
        "## Question 7"
      ]
    },
    {
      "cell_type": "markdown",
      "metadata": {
        "id": "HfkfYVEysiFs"
      },
      "source": [
        "Generate a 30 × 10 random matrix A and a 30 × 1 random vector b.\n",
        "Check that the matrix is full column rank! Run the algorithm for 100\n",
        "steps. Verify numerically that the algorithm converges to $ \\hat{x} $ ."
      ]
    },
    {
      "cell_type": "code",
      "metadata": {
        "colab": {
          "base_uri": "https://localhost:8080/"
        },
        "id": "j5kUOqnP0GTv",
        "outputId": "afb8b132-52ad-4361-8840-4402bbf5e989"
      },
      "source": [
        "import matplotlib.pyplot as plt\n",
        "import numpy as np\n",
        "plt.style.use(\"seaborn\")\n",
        "A = np.random.rand(30,10)\n",
        "b = np.random.rand(30,1)\n",
        "rank = np.linalg.matrix_rank(A)\n",
        "print(rank)"
      ],
      "execution_count": null,
      "outputs": [
        {
          "name": "stdout",
          "output_type": "stream",
          "text": [
            "10\n"
          ]
        }
      ]
    },
    {
      "cell_type": "code",
      "metadata": {
        "id": "rPEGnh3vBzGT"
      },
      "source": [
        "A_norm = np.linalg.norm(A, 2)"
      ],
      "execution_count": null,
      "outputs": []
    },
    {
      "cell_type": "markdown",
      "metadata": {
        "id": "3v_aHnNjqb1_"
      },
      "source": [
        "<h3>Analytical solution : $x={(A^TA)^{-1}}{A^T}b$\n"
      ]
    },
    {
      "cell_type": "code",
      "metadata": {
        "colab": {
          "base_uri": "https://localhost:8080/"
        },
        "id": "BVkkrBfxCyRk",
        "outputId": "30ff57d6-eb67-4efc-cd52-cab031de8743"
      },
      "source": [
        "f = np.dot((np.linalg.inv(np.dot(np.transpose(A), A))), np.transpose(A))\n",
        "x_analytical2 = np.dot(f,b)\n",
        "print(x_analytical2)"
      ],
      "execution_count": null,
      "outputs": [
        {
          "name": "stdout",
          "output_type": "stream",
          "text": [
            "[[-0.02991262]\n",
            " [-0.11846577]\n",
            " [ 0.41109361]\n",
            " [ 0.10973272]\n",
            " [ 0.29017803]\n",
            " [ 0.22127471]\n",
            " [-0.12925718]\n",
            " [ 0.40120243]\n",
            " [ 0.30015917]\n",
            " [-0.27962187]]\n"
          ]
        }
      ]
    },
    {
      "cell_type": "markdown",
      "metadata": {
        "id": "dnxIaJUbqYDc"
      },
      "source": [
        "<h3>now, we can use the iterative LS to calculate the answer. <br> \n",
        "<center>\n",
        "$$ x^{(k+1)} = x^{(k)} - \\frac{A^T}{|| A||^2 } (Ax^{(k)} - b)  $$\n",
        "</center>"
      ]
    },
    {
      "cell_type": "code",
      "metadata": {
        "id": "HZlgSGkMB41_"
      },
      "source": [
        "x_init = np.zeros((10,1))\n",
        "r=[]\n",
        "d=[]\n",
        "for iter in range(1000) :\n",
        "  x_next = x_init -  (np.dot(np.transpose(A), ((np.dot(A , x_init) - b) ) )/(A_norm ** 2) )\n",
        "  res=np.linalg.norm(x_next - x_init )\n",
        "  x_init = x_next  \n",
        "  dist = np.linalg.norm(x_analytical2 - x_init )\n",
        "  d.append(dist)\n",
        "  r.append(res)"
      ],
      "execution_count": null,
      "outputs": []
    },
    {
      "cell_type": "code",
      "metadata": {
        "colab": {
          "base_uri": "https://localhost:8080/",
          "height": 393
        },
        "id": "LS6TK6GT2zmM",
        "outputId": "1d871290-b25e-44c7-feef-5dba7663feef"
      },
      "source": [
        "plt.title(\"||x-xhat|| vs iterations\")\n",
        "plt.xlabel(\"iterations\")\n",
        "plt.ylabel(\"||x-xhat||\")\n",
        "plt.plot(d)"
      ],
      "execution_count": null,
      "outputs": [
        {
          "data": {
            "text/plain": [
              "[<matplotlib.lines.Line2D at 0x7f4f410566d0>]"
            ]
          },
          "execution_count": 13,
          "metadata": {},
          "output_type": "execute_result"
        },
        {
          "data": {
            "image/png": "[encoded data removed]",
            "text/plain": [
              "<Figure size 576x396 with 1 Axes>"
            ]
          },
          "metadata": {},
          "output_type": "display_data"
        }
      ]
    },
    {
      "cell_type": "code",
      "metadata": {
        "colab": {
          "base_uri": "https://localhost:8080/",
          "height": 393
        },
        "id": "QqFkzguE21Nd",
        "outputId": "c50972ff-ffc1-4f67-d839-968192c37e54"
      },
      "source": [
        "plt.title(\"residual vs iterations\")\n",
        "plt.xlabel(\"iterations\")\n",
        "plt.ylabel(\"residual\")\n",
        "plt.plot(d)"
      ],
      "execution_count": null,
      "outputs": [
        {
          "data": {
            "text/plain": [
              "[<matplotlib.lines.Line2D at 0x7f4f41734c90>]"
            ]
          },
          "execution_count": 15,
          "metadata": {},
          "output_type": "execute_result"
        },
        {
          "data": {
            "image/png": "[encoded data removed]",
            "text/plain": [
              "<Figure size 576x396 with 1 Axes>"
            ]
          },
          "metadata": {},
          "output_type": "display_data"
        }
      ]
    },
    {
      "cell_type": "code",
      "metadata": {
        "id": "s-vL3sr44I_D"
      },
      "source": [
        "!wget -nc https://raw.githubusercontent.com/brpy/colab-pdf/master/colab_pdf.py\n",
        "from colab_pdf import colab_pdf\n",
        "colab_pdf('Question7.ipynb')"
      ],
      "execution_count": null,
      "outputs": []
    },
    {
      "cell_type": "code",
      "metadata": {
        "id": "qU4uqqu7GzOr"
      },
      "source": [
        ""
      ],
      "execution_count": null,
      "outputs": []
    }
  ]
}